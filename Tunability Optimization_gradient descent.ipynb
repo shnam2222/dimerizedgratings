{
 "cells": [
  {
   "cell_type": "markdown",
   "metadata": {},
   "source": [
    "# DHCG Tunability Optimization\n",
    "\n",
    "> Optimizate tunability; defined as distance between peaks divided by average FWHM\n",
    "\n",
    "Conditions\n",
    "- SiO2 Thickness under 3um\n",
    "- Graphene Fermi energy between 0.05eV and 0.6eV\n",
    "- Si thickness under 1um\n",
    "- P shorter than wavelength (suppress diffraction)\n",
    "\n",
    "Optimization Method\n",
    "- Gradient Descent"
   ]
  },
  {
   "cell_type": "code",
   "execution_count": null,
   "metadata": {},
   "outputs": [],
   "source": [
    "import matplotlib.pyplot as plt\n",
    "from util_n import *\n",
    "from util_opt import *\n",
    "from util_meent import *\n"
   ]
  },
  {
   "cell_type": "code",
   "execution_count": 2,
   "metadata": {},
   "outputs": [],
   "source": [
    "list_tun = []"
   ]
  },
  {
   "cell_type": "code",
   "execution_count": 3,
   "metadata": {},
   "outputs": [
    {
     "name": "stdout",
     "output_type": "stream",
     "text": [
      "-------------------\n",
      "1 th Trial\n",
      "-------------------\n",
      "Finding Candidate\r"
     ]
    },
    {
     "name": "stderr",
     "output_type": "stream",
     "text": [
      "C:\\Users\\user\\AppData\\Roaming\\Python\\Python311\\site-packages\\meent\\on_torch\\modeler\\modeling.py:76: UserWarning: Casting complex values to real discards the imaginary part (Triggered internally at ..\\aten\\src\\ATen\\native\\Copy.cpp:276.)\n",
      "  lx = lx.type(self.type_float)\n"
     ]
    },
    {
     "name": "stdout",
     "output_type": "stream",
     "text": [
      "Obtained Tunability:  1.7230666743549108 Max Tunability:  1.7230666743549108                                                                                5556014452998 Gradients - p: 0.20373645579081984, delta: -628.0567464670032, d: 0.1891275242736258, t: 0.6986600857829188, w: 0.269377154175337280435\n",
      "-------------------\n",
      "2 th Trial\n",
      "-------------------\n",
      "Obtained Tunability:  1.825781481782293 Max Tunability:  1.825781481782293                                                                                .2350213828154 Gradients - p: 0.2018359461839482, delta: -585.5683672135184, d: -0.05094966189834762, t: -0.5037703243978089, w: -0.2079005415302757313\n",
      "-------------------\n",
      "3 th Trial\n",
      "-------------------\n",
      "Obtained Tunability:  1.6619270042247445 Max Tunability:  1.825781481782293                                                                                9.634440704329 Gradients - p: 0.10134756728315752, delta: -279.0180524181975, d: 0.002662152608280463, t: -0.420430287327119, w: -0.06354158635685156804\n",
      "-------------------\n",
      "4 th Trial\n",
      "-------------------\n",
      "Obtained Tunability:  1.7348426921012887 Max Tunability:  1.825781481782293                                                                                .4118325470088 Gradients - p: 0.11531917919522883, delta: -330.7371100259244, d: 0.08062298553163993, t: -0.055817867137309136, w: 0.002442563223649086\n",
      "-------------------\n",
      "5 th Trial\n",
      "-------------------\n",
      "Obtained Tunability:  1.0886382975761808 Max Tunability:  1.825781481782293                                                                                1745060972567 Gradients - p: 0.07084092363447912, delta: -207.00191357659693, d: 0.053370364040719744, t: 0.10497850484823973, w: 0.025821428940355154879\n",
      "-------------------\n",
      "6 th Trial\n",
      "-------------------\n",
      "Obtained Tunability:  1.5901646232313593 Max Tunability:  1.825781481782293                                                                                .015986886165 Gradients - p: 0.12873823531006628, delta: -423.3413798086523, d: 0.08616062689303788, t: 0.05664510487709647, w: 0.036834713251657485499\n",
      "-------------------\n",
      "7 th Trial\n",
      "-------------------\n",
      "Obtained Tunability:  1.5382642698913325 Max Tunability:  1.825781481782293                                                                                1107684586552 Gradients - p: 0.13960254784313114, delta: -356.36869718571523, d: 0.02332772569953997, t: 0.11137511976889174, w: 0.0459405240726074404509\n",
      "-------------------\n",
      "8 th Trial\n",
      "-------------------\n",
      "Obtained Tunability:  1.65956166493193 Max Tunability:  1.825781481782293                                                                                7.4999998123126 Gradients - p: 0.13144321398486283, delta: -351.1598982576007, d: 0.04697759494391859, t: 0.2079077948595564, w: 0.11500073258883291\n",
      "-------------------\n",
      "9 th Trial\n",
      "-------------------\n",
      "Obtained Tunability:  1.5895420929014974 Max Tunability:  1.825781481782293                                                                                4525405641084 Gradients - p: 0.08776126428900762, delta: -277.9671580252156, d: -0.23549288475113866, t: -0.8953089823433331, w: -0.19867538129039158167\n",
      "-------------------\n",
      "10 th Trial\n",
      "-------------------\n",
      "Obtained Tunability:  1.7073421135964049 Max Tunability:  1.825781481782293                                                                                .4632727618339 Gradients - p: 0.16823417740152, delta: -535.8727807961172, d: -0.09917571497524745, t: -0.9102587529629009, w: -0.165034015539786444\n",
      "-------------------\n",
      "11 th Trial\n",
      "-------------------\n",
      "Obtained Tunability:  1.771294076353262 Max Tunability:  1.825781481782293                                                                                .2624206724522 Gradients - p: 0.1303096926529757, delta: -405.22118218284476, d: -0.06582427478476717, t: -0.4263141659657597, w: -0.112886596567539568968\n",
      "-------------------\n",
      "12 th Trial\n",
      "-------------------\n",
      "Obtained Tunability:  1.753070977181352 Max Tunability:  1.825781481782293                                                                                128400968471 Gradients - p: 0.08207621645938508, delta: -253.83218482308686, d: 0.032026310171123125, t: -0.1044289953034703, w: -0.02449073928826226177\n",
      "-------------------\n",
      "13 th Trial\n",
      "-------------------\n",
      "Obtained Tunability:  1.6214433108538397 Max Tunability:  1.825781481782293                                                                                5.3065589574735 Gradients - p: 0.07586376962133422, delta: -228.60368317359558, d: 0.25148528572948853, t: 0.600127226297867, w: 0.180593530211552158706\n",
      "-------------------\n",
      "14 th Trial\n",
      "-------------------\n",
      "Obtained Tunability:  1.8470355078688223 Max Tunability:  1.8470355078688223                                                                                .4099518406015 Gradients - p: 0.16581198065022806, delta: -481.456947349946, d: 0.05186908752671934, t: 0.013977492317017687, w: 0.0224301603231896465\n",
      "-------------------\n",
      "15 th Trial\n",
      "-------------------\n",
      "Obtained Tunability:  1.654351583282002 Max Tunability:  1.8470355078688223                                                                                7079786538677 Gradients - p: 0.16105154644516165, delta: -476.0915528006042, d: 0.02402824273362197, t: 0.024908777361670267, w: 0.013553178100810425063\n",
      "-------------------\n",
      "16 th Trial\n",
      "-------------------\n",
      "Obtained Tunability:  1.8040064385248231 Max Tunability:  1.8470355078688223                                                                                531901689459 Gradients - p: 0.14899776145890037, delta: -404.0941604915272, d: 0.03747872799040686, t: -0.18906197760848878, w: -0.0725454959758643461\n",
      "-------------------\n",
      "17 th Trial\n",
      "-------------------\n",
      "Obtained Tunability:  1.6586872520936355 Max Tunability:  1.8470355078688223                                                                                4999999875806 Gradients - p: 0.22265628249075017, delta: -663.7178894816641, d: -0.1447343453044662, t: -1.2131010453859872, w: -0.4711327872086718\n",
      "-------------------\n",
      "18 th Trial\n",
      "-------------------\n",
      "Obtained Tunability:  1.699980567473997 Max Tunability:  1.8470355078688223                                                                                701824517738 Gradients - p: 0.11967755849915339, delta: -351.4278175756453, d: 0.27004130602053267, t: 0.5517342887165101, w: 0.345106665978106634017\n",
      "-------------------\n",
      "19 th Trial\n",
      "-------------------\n",
      "Obtained Tunability:  1.813801773733046 Max Tunability:  1.8470355078688223                                                                                3568160168998 Gradients - p: 0.08115397596429792, delta: -235.45519133537127, d: 0.1655752244919305, t: 0.3557244455756182, w: 0.145464251619456454481\n",
      "-------------------\n",
      "20 th Trial\n",
      "-------------------\n",
      "Obtained Tunability:  1.5974024850832091 Max Tunability:  1.8470355078688223                                                                                .5000000149832 Gradients - p: 0.11924522937297523, delta: -390.2938456251285, d: 0.23196762314731167, t: 1.049412041376231, w: 0.2807837054831881\n",
      "-------------------\n",
      "21 th Trial\n",
      "-------------------\n",
      "Obtained Tunability:  1.6531628506803708 Max Tunability:  1.8470355078688223                                                                                0709109231457 Gradients - p: 0.14300762349262408, delta: -372.4623523219515, d: 0.006082790501469959, t: -0.07213571840547968, w: -0.0295886579322812563\n",
      "-------------------\n",
      "22 th Trial\n",
      "-------------------\n",
      "Obtained Tunability:  1.7149549326592712 Max Tunability:  1.8470355078688223                                                                                4999999126292 Gradients - p: 0.05562043689921306, delta: -158.32901590965065, d: 0.04678115285266706, t: -0.18700037033682018, w: -0.053671650999291456\n",
      "-------------------\n",
      "23 th Trial\n",
      "-------------------\n",
      "Obtained Tunability:  1.8138145667950798 Max Tunability:  1.8470355078688223                                                                                171411324943 Gradients - p: 0.16092056302644714, delta: -460.4272073446058, d: -0.07134348287615751, t: -0.7936373266011101, w: -0.27443781431966938695\n",
      "-------------------\n",
      "24 th Trial\n",
      "-------------------\n",
      "Obtained Tunability:  1.3464587222809468 Max Tunability:  1.8470355078688223                                                                                6017719117394 Gradients - p: 0.12968439145532493, delta: -373.84715942736955, d: 0.02216663848925813, t: 0.04969980065911953, w: 0.018526405966349416598575\n",
      "-------------------\n",
      "25 th Trial\n",
      "-------------------\n",
      "Obtained Tunability:  1.867886388186957 Max Tunability:  1.867886388186957                                                                                6.5321985893731 Gradients - p: 0.21599419083201038, delta: -655.6080786945184, d: 0.007992793312926749, t: -0.0931450941780855, w: -0.03887208221292185\n",
      "-------------------\n",
      "26 th Trial\n",
      "-------------------\n",
      "Obtained Tunability:  1.6468783745254567 Max Tunability:  1.867886388186957                                                                                90.5819321329723 Gradients - p: 0.14948552315196384, delta: -384.27934207588186, d: -0.03175653816610874, t: -0.3616006706040424, w: -0.17913305838747007\n",
      "-------------------\n",
      "27 th Trial\n",
      "-------------------\n",
      "Obtained Tunability:  1.5029393889001545 Max Tunability:  1.867886388186957                                                                                9.4184109110743 Gradients - p: 0.07213108182153843, delta: -214.96511576413215, d: -0.004856371298983536, t: -0.13391471733781365, w: -0.028934269817939527\n",
      "-------------------\n",
      "28 th Trial\n",
      "-------------------\n",
      "Obtained Tunability:  1.6793508569678701 Max Tunability:  1.867886388186957                                                                                7.2121632523151 Gradients - p: 0.1276635441055555, delta: -376.46565461859075, d: 0.18059455603099567, t: 0.28002842373658243, w: 0.10733279918804084\n",
      "-------------------\n",
      "29 th Trial\n",
      "-------------------\n",
      "Obtained Tunability:  1.7619169894584643 Max Tunability:  1.867886388186957                                                                                6.8097761572565 Gradients - p: 0.1350343520757479, delta: -411.3047079057974, d: 0.212658140455631, t: 0.6411739822429938, w: 0.31001844593796163172\n",
      "-------------------\n",
      "30 th Trial\n",
      "-------------------\n",
      "Obtained Tunability:  1.6935640889795172 Max Tunability:  1.867886388186957                                                                                0.5333411261327 Gradients - p: 0.18197758693067415, delta: -493.4299761878353, d: -0.15476193081467488, t: -0.7610576059837504, w: -0.37469496388076834\n"
     ]
    }
   ],
   "source": [
    "max_tun = 0\n",
    "tmp_tun = 0\n",
    "best_parameters = [0,0,0,0,0]\n",
    "\n",
    "\n",
    "for i in range(30):\n",
    "\n",
    "    print(\"-------------------\")\n",
    "    print(i+1, \"th Trial\")\n",
    "    print(\"-------------------\")\n",
    "\n",
    "    p, delta, d, t, w, fom = find_BIC()\n",
    "\n",
    "    if p is None:\n",
    "        continue\n",
    "\n",
    "    parameters = [p.item(), delta.item(), d.item(), t.item(), w.item()]\n",
    "\n",
    "    p, delta, d, t, w, tmp_tun = find_tun(parameters)\n",
    "\n",
    "    if p is None:\n",
    "        continue\n",
    "\n",
    "    if tmp_tun>max_tun and tmp_tun < 3:\n",
    "        best_parameters = [p.item(), delta.item(), d.item(), t.item(), w.item()]\n",
    "        max_tun = tmp_tun\n",
    "    \n",
    "    print(\"Obtained Tunability: \", tmp_tun,\"Max Tunability: \", max_tun, \"                                                                               \")\n",
    "\n",
    "    list_tun.append(tmp_tun)"
   ]
  },
  {
   "cell_type": "code",
   "execution_count": 4,
   "metadata": {},
   "outputs": [
    {
     "name": "stdout",
     "output_type": "stream",
     "text": [
      "tensor(2906.0007, dtype=torch.float64, requires_grad=True) tensor(296.7965, dtype=torch.float64, requires_grad=True) tensor(1186.5322, dtype=torch.float64, requires_grad=True) tensor(0.0426, dtype=torch.float64, requires_grad=True) tensor(1651.8897, dtype=torch.float64, requires_grad=True)\n"
     ]
    }
   ],
   "source": [
    "list_tun_3_5 = np.array(list_tun)\n",
    "\n",
    "p = torch.tensor(best_parameters[0], requires_grad=True, dtype=torch.float64)\n",
    "delta = torch.tensor(best_parameters[1], requires_grad=True, dtype=torch.float64)\n",
    "d = torch.tensor(best_parameters[2], requires_grad=True, dtype=torch.float64)\n",
    "t = torch.tensor(best_parameters[3], requires_grad=True, dtype=torch.float64)\n",
    "w = torch.tensor(best_parameters[4], requires_grad=True, dtype=torch.float64)\n",
    "\n",
    "print(p,t,w,delta,d)"
   ]
  },
  {
   "cell_type": "code",
   "execution_count": 5,
   "metadata": {},
   "outputs": [
    {
     "name": "stdout",
     "output_type": "stream",
     "text": [
      "tensor(2910., dtype=torch.float64, grad_fn=<RoundBackward1>) tensor(297., dtype=torch.float64, grad_fn=<RoundBackward0>) tensor(1190., dtype=torch.float64, grad_fn=<RoundBackward1>) tensor(0.0430, dtype=torch.float64, grad_fn=<RoundBackward1>) tensor(1650., dtype=torch.float64, grad_fn=<RoundBackward1>)\n",
      "p:  2910.0\n",
      "delta:  0.043\n",
      "t:  297.0\n",
      "w:  1190.0\n",
      "d:  1650.0\n"
     ]
    }
   ],
   "source": [
    "p = torch.round(p, decimals=-1)\n",
    "t = torch.round(t)\n",
    "w = torch.round(w, decimals= -1)\n",
    "d = torch.round(d, decimals = -1)\n",
    "delta = torch.round(delta, decimals = 3)\n",
    "        \n",
    "period_x = 2* p\n",
    "period_y = torch.tensor(1, requires_grad=False, dtype=torch.float64)\n",
    "center = [[-1*p/2*(1-delta), period_y/2], [p/2*(1-delta), period_y/2], [period_x/2, period_y/2], [period_x/2, period_y/2], [period_x/2, period_y/2]]\n",
    "length_x = [ w, w, period_x, period_x, period_x]\n",
    "length_y = [ period_y, period_y, period_y, period_y, period_y]\n",
    "\n",
    "print(p,t,w,delta,d)\n",
    "\n",
    "print(\"p: \", p.item())\n",
    "print(\"delta: \", delta.item())\n",
    "print(\"t: \", t.item())\n",
    "print(\"w: \", w.item())\n",
    "print(\"d: \", d.item())"
   ]
  },
  {
   "cell_type": "code",
   "execution_count": 6,
   "metadata": {},
   "outputs": [],
   "source": [
    "wavelengths = torch.linspace(5000, 7000, 500) \n",
    "\n",
    "reflectances_after_005eV = torch.zeros_like(wavelengths)\n",
    "\n",
    "for i, wav in enumerate(wavelengths):\n",
    "\n",
    "    n_index = [n_Si, n_Si, get_graphene_index_005eV(wav/1000), get_SiO2_index(wav/1000), get_Au_index(wav/1000), 1] # Imaginary part creating error\n",
    "\n",
    "    solver = create_solver(fto=[10, 0], pol = 0, wavelength=wav, period_x=period_x, period_y=period_y, d = d, t=t)\n",
    "        \n",
    "    de_ri, _ = forward_single(solver, length_x, length_y, center, n_index)\n",
    "        \n",
    "    reflectances_after_005eV[i] = de_ri.sum()\n",
    "\n",
    "reflectances_after_060eV = torch.zeros_like(wavelengths)\n",
    "\n",
    "for i, wav in enumerate(wavelengths):\n",
    "\n",
    "    n_index = [n_Si, n_Si, get_graphene_index_060eV(wav/1000), get_SiO2_index(wav/1000), get_Au_index(wav/1000), 1] # Imaginary part creating error\n",
    "\n",
    "    solver = create_solver(fto=[10, 0], pol = 0, wavelength=wav, period_x=period_x, period_y=period_y, d = d, t=t)\n",
    "        \n",
    "    de_ri, _ = forward_single(solver, length_x, length_y, center, n_index)\n",
    "        \n",
    "    reflectances_after_060eV[i] = de_ri.sum()\n",
    "\n",
    "\n",
    "y_005_af = reflectances_after_005eV.detach().numpy()\n",
    "y_060_af = reflectances_after_060eV.detach().numpy()"
   ]
  },
  {
   "cell_type": "code",
   "execution_count": 7,
   "metadata": {},
   "outputs": [],
   "source": [
    "reflectances_after_005eV_withloss = torch.zeros_like(wavelengths)\n",
    "\n",
    "for i, wav in enumerate(wavelengths):\n",
    "\n",
    "    n_index = [n_Si-0.067j , n_Si-0.067j, get_graphene_index_005eV(wav/1000), get_SiO2_index(wav/1000), get_Au_index(wav/1000), 1] # Imaginary part creating error\n",
    "\n",
    "    solver = create_solver(fto=[10, 0], pol = 0, wavelength=wav, period_x=period_x, period_y=period_y, d = d, t=t)\n",
    "        \n",
    "    de_ri, _ = forward_single(solver, length_x, length_y, center, n_index)\n",
    "        \n",
    "    reflectances_after_005eV_withloss[i] = de_ri.sum()\n",
    "\n",
    "reflectances_after_060eV_withloss = torch.zeros_like(wavelengths)\n",
    "\n",
    "for i, wav in enumerate(wavelengths):\n",
    "\n",
    "    n_index = [n_Si-0.067j, n_Si-0.067j, get_graphene_index_060eV(wav/1000), get_SiO2_index(wav/1000), get_Au_index(wav/1000), 1] # Imaginary part creating error\n",
    "\n",
    "    solver = create_solver(fto=[10, 0], pol = 0, wavelength=wav, period_x=period_x, period_y=period_y, d = d, t=t)\n",
    "        \n",
    "    de_ri, _ = forward_single(solver, length_x, length_y, center, n_index)\n",
    "        \n",
    "    reflectances_after_060eV_withloss[i] = de_ri.sum()\n",
    "\n",
    "\n",
    "y_005_loss = reflectances_after_005eV_withloss.detach().numpy()\n",
    "y_060_loss = reflectances_after_060eV_withloss.detach().numpy()"
   ]
  },
  {
   "cell_type": "code",
   "execution_count": 8,
   "metadata": {},
   "outputs": [],
   "source": [
    "delta = torch.tensor(0.00, requires_grad=True, dtype=torch.float64)\n",
    "center = [[-1*p/2*(1-delta), period_y/2], [p/2*(1-delta), period_y/2], [period_x/2, period_y/2], [period_x/2, period_y/2], [period_x/2, period_y/2]]\n",
    "length_x = [ w, w, period_x, period_x, period_x]\n",
    "length_y = [ period_y, period_y, period_y, period_y, period_y]\n",
    "\n",
    "reflectances_0del_005eV = torch.zeros_like(wavelengths)\n",
    "\n",
    "for i, wav in enumerate(wavelengths):\n",
    "\n",
    "    n_index = [n_Si, n_Si, get_graphene_index_005eV(wav/1000), get_SiO2_index(wav/1000), get_Au_index(wav/1000), 1] # Imaginary part creating error\n",
    "\n",
    "    solver = create_solver(fto=[10, 0], pol = 0, wavelength=wav, period_x=period_x, period_y=period_y, d = d, t=t)\n",
    "        \n",
    "    de_ri, _ = forward_single(solver, length_x, length_y, center, n_index)\n",
    "        \n",
    "    reflectances_0del_005eV[i] = de_ri.sum()\n",
    "\n",
    "    #wavelengths = torch.tensor([5500], dtype=torch.float64)\n",
    "\n",
    "reflectances_0del_060eV = torch.zeros_like(wavelengths)\n",
    "\n",
    "for i, wav in enumerate(wavelengths):\n",
    "\n",
    "    n_index = [n_Si, n_Si, get_graphene_index_060eV(wav/1000), get_SiO2_index(wav/1000), get_Au_index(wav/1000), 1] # Imaginary part creating error\n",
    "\n",
    "    solver = create_solver(fto=[10, 0], pol = 0, wavelength=wav, period_x=period_x, period_y=period_y, d = d, t=t)\n",
    "        \n",
    "    de_ri, _ = forward_single(solver, length_x, length_y, center, n_index)\n",
    "        \n",
    "    reflectances_0del_060eV[i] = de_ri.sum()\n",
    "\n",
    "x_np = wavelengths.numpy()\n",
    "y_005_0del = reflectances_0del_005eV.detach().numpy()\n",
    "y_060_0del = reflectances_0del_060eV.detach().numpy()"
   ]
  },
  {
   "cell_type": "code",
   "execution_count": 9,
   "metadata": {},
   "outputs": [
    {
     "data": {
      "image/png": "[encoded data removed]",
      "text/plain": [
       "<Figure size 1000x500 with 1 Axes>"
      ]
     },
     "metadata": {},
     "output_type": "display_data"
    }
   ],
   "source": [
    "# Plotting with matplotlib\n",
    "plt.figure(figsize=(10, 5))\n",
    "plt.plot(x_np, y_005_af, label='0.05eV', color='blue')\n",
    "plt.plot(x_np, y_060_af, label='0.60eV',color='orange')\n",
    "plt.plot(x_np, y_005_loss, label='0.05eV with loss', color='blue', ls = '--', alpha = 0.7)\n",
    "plt.plot(x_np, y_060_loss, label='0.60eV with loss', color='orange', ls = '--', alpha = 0.7)\n",
    "plt.title(\"Optimized Tunability, n_Si = 3.5\")\n",
    "plt.xlabel('wavelength (um)')\n",
    "plt.ylabel('Reflectance')\n",
    "plt.legend()\n",
    "plt.grid(True)\n",
    "plt.ylim([0.4,1])\n",
    "plt.show()"
   ]
  },
  {
   "cell_type": "code",
   "execution_count": 10,
   "metadata": {},
   "outputs": [
    {
     "name": "stdout",
     "output_type": "stream",
     "text": [
      "Peak wavelengths:  6019.59228515625 5964.36962890625\n",
      "FWHM:  7.62715216053012e-06 2.7205056073750875e-06\n",
      "1.867886388186957\n"
     ]
    }
   ],
   "source": [
    "tun = tunability(best_parameters)\n",
    "\n",
    "print(tun)"
   ]
  }
 ],
 "metadata": {
  "kernelspec": {
   "display_name": "Python 3",
   "language": "python",
   "name": "python3"
  },
  "language_info": {
   "codemirror_mode": {
    "name": "ipython",
    "version": 3
   },
   "file_extension": ".py",
   "mimetype": "text/x-python",
   "name": "python",
   "nbconvert_exporter": "python",
   "pygments_lexer": "ipython3",
   "version": "3.11.4"
  }
 },
 "nbformat": 4,
 "nbformat_minor": 2
}
